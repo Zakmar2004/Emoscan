{
  "cells": [
    {
      "cell_type": "markdown",
      "metadata": {
        "id": "fyz4FkT2nV7v"
      },
      "source": [
        "# Загрузка данных"
      ]
    },
    {
      "cell_type": "code",
      "execution_count": null,
      "metadata": {
        "colab": {
          "base_uri": "https://localhost:8080/"
        },
        "id": "0wlFSCLhbfOl",
        "outputId": "344f85e4-67e8-4682-c335-fd01babcb7f2"
      },
      "outputs": [
        {
          "output_type": "stream",
          "name": "stdout",
          "text": [
            "Drive already mounted at /content/drive; to attempt to forcibly remount, call drive.mount(\"/content/drive\", force_remount=True).\n"
          ]
        }
      ],
      "source": [
        "from google.colab import drive\n",
        "drive.mount('/content/drive')"
      ]
    },
    {
      "cell_type": "code",
      "execution_count": null,
      "metadata": {
        "colab": {
          "base_uri": "https://localhost:8080/"
        },
        "id": "nGihtO64ic3N",
        "outputId": "06790e5f-bc01-48b5-b109-daf56afb0380"
      },
      "outputs": [
        {
          "output_type": "execute_result",
          "data": {
            "text/plain": [
              "['__MACOSX', 'FER2013+']"
            ]
          },
          "metadata": {},
          "execution_count": 91
        }
      ],
      "source": [
        "import zipfile\n",
        "import os\n",
        "\n",
        "zip_path = '/content/drive/MyDrive/faces/FER2013+.zip'\n",
        "extract_path = '/content/FER2013+/'\n",
        "\n",
        "with zipfile.ZipFile(zip_path, 'r') as zip_ref:\n",
        "    zip_ref.extractall(extract_path)\n",
        "\n",
        "os.listdir(extract_path)"
      ]
    },
    {
      "cell_type": "code",
      "execution_count": null,
      "metadata": {
        "id": "8n2RfZo2ludD"
      },
      "outputs": [],
      "source": [
        "import shutil\n",
        "\n",
        "shutil.rmtree('/content/FER2013+/__MACOSX')"
      ]
    },
    {
      "cell_type": "code",
      "execution_count": null,
      "metadata": {
        "colab": {
          "base_uri": "https://localhost:8080/"
        },
        "id": "RONgNmGdmOOv",
        "outputId": "842d9643-76b1-4834-8991-f0608c2adccc"
      },
      "outputs": [
        {
          "output_type": "stream",
          "name": "stdout",
          "text": [
            "Папка train перемещена в /content/FER2013+/\n",
            "Папка test перемещена в /content/FER2013+/\n"
          ]
        }
      ],
      "source": [
        "train_path = '/content/FER2013+/FER2013+/train'\n",
        "test_path = '/content/FER2013+/FER2013+/test'\n",
        "\n",
        "destination_path = '/content/FER2013+/'\n",
        "\n",
        "\n",
        "if os.path.exists(train_path):\n",
        "    shutil.move(train_path, destination_path)\n",
        "    print(f'Папка train перемещена в {destination_path}')\n",
        "\n",
        "if os.path.exists(test_path):\n",
        "    shutil.move(test_path, destination_path)\n",
        "    print(f'Папка test перемещена в {destination_path}')"
      ]
    },
    {
      "cell_type": "code",
      "execution_count": null,
      "metadata": {
        "id": "RSTPI7v2m3Zy"
      },
      "outputs": [],
      "source": [
        "shutil.rmtree('/content/FER2013+/FER2013+')"
      ]
    },
    {
      "cell_type": "markdown",
      "metadata": {
        "id": "IwdXsXxhh2AW"
      },
      "source": [
        "# Обработка данных"
      ]
    },
    {
      "cell_type": "code",
      "execution_count": null,
      "metadata": {
        "colab": {
          "background_save": true,
          "base_uri": "https://localhost:8080/"
        },
        "id": "EWoI6HQp3caV",
        "outputId": "ed53fc23-ccf3-4706-ad0f-a5bf0ee17147"
      },
      "outputs": [
        {
          "name": "stdout",
          "output_type": "stream",
          "text": [
            "Collecting mtcnn\n",
            "  Downloading mtcnn-1.0.0-py3-none-any.whl.metadata (5.8 kB)\n",
            "Requirement already satisfied: joblib>=1.4.2 in /usr/local/lib/python3.10/dist-packages (from mtcnn) (1.4.2)\n",
            "Collecting lz4>=4.3.3 (from mtcnn)\n",
            "  Downloading lz4-4.3.3-cp310-cp310-manylinux_2_17_x86_64.manylinux2014_x86_64.whl.metadata (3.7 kB)\n",
            "Downloading mtcnn-1.0.0-py3-none-any.whl (1.9 MB)\n",
            "\u001b[2K   \u001b[90m━━━━━━━━━━━━━━━━━━━━━━━━━━━━━━━━━━━━━━━━\u001b[0m \u001b[32m1.9/1.9 MB\u001b[0m \u001b[31m27.2 MB/s\u001b[0m eta \u001b[36m0:00:00\u001b[0m\n",
            "\u001b[?25hDownloading lz4-4.3.3-cp310-cp310-manylinux_2_17_x86_64.manylinux2014_x86_64.whl (1.3 MB)\n",
            "\u001b[2K   \u001b[90m━━━━━━━━━━━━━━━━━━━━━━━━━━━━━━━━━━━━━━━━\u001b[0m \u001b[32m1.3/1.3 MB\u001b[0m \u001b[31m51.8 MB/s\u001b[0m eta \u001b[36m0:00:00\u001b[0m\n",
            "\u001b[?25hInstalling collected packages: lz4, mtcnn\n",
            "Successfully installed lz4-4.3.3 mtcnn-1.0.0\n"
          ]
        }
      ],
      "source": [
        "!pip install mtcnn"
      ]
    },
    {
      "cell_type": "code",
      "execution_count": null,
      "metadata": {
        "id": "g5sZ8Yukm-mL"
      },
      "outputs": [],
      "source": [
        "import matplotlib.pyplot as plt\n",
        "from PIL import Image\n",
        "import numpy as np\n",
        "from torchvision import datasets, transforms\n",
        "from torch.utils.data import DataLoader, random_split\n",
        "from torchvision.datasets import ImageFolder\n",
        "import torch\n",
        "import torch.nn as nn\n",
        "import torch.optim as optim\n",
        "from torchvision import models\n",
        "from tqdm import tqdm\n",
        "import cv2\n",
        "from mtcnn import MTCNN\n",
        "from torch.optim.lr_scheduler import ReduceLROnPlateau\n",
        "from sklearn.metrics import confusion_matrix\n",
        "import seaborn as sns"
      ]
    },
    {
      "cell_type": "code",
      "execution_count": null,
      "metadata": {
        "id": "sVDYE2b0nu_1"
      },
      "outputs": [],
      "source": [
        "train_transform = transforms.Compose([\n",
        "    transforms.Resize((112, 112)),\n",
        "    transforms.RandomRotation(15),\n",
        "    transforms.RandomAffine(0, shear=10, scale=(0.8, 1.2)),\n",
        "    transforms.ToTensor(),\n",
        "    transforms.Normalize(mean=[0.485, 0.456, 0.406], std=[0.229, 0.224, 0.225]),\n",
        "])\n",
        "\n",
        "transform = transforms.Compose([\n",
        "    transforms.Resize((112, 112)),\n",
        "    transforms.ToTensor(),\n",
        "    transforms.Normalize(mean=[0.485, 0.456, 0.406], std=[0.229, 0.224, 0.225])\n",
        "])\n",
        "\n",
        "\n",
        "train_dataset = ImageFolder(root='/content/FER2013+/train/', transform=train_transform)\n",
        "test_dataset = ImageFolder(root='/content/FER2013+/test/', transform=transform)\n",
        "\n",
        "val_size = int(0.1 * len(train_dataset))\n",
        "train_size = len(train_dataset) - val_size\n",
        "train_dataset, val_dataset = random_split(train_dataset, [train_size, val_size])\n",
        "\n",
        "train_loader = DataLoader(train_dataset, batch_size=64, shuffle=True)\n",
        "val_loader = DataLoader(val_dataset, batch_size=64, shuffle=False)\n",
        "test_loader = DataLoader(test_dataset, batch_size=64, shuffle=False)"
      ]
    },
    {
      "cell_type": "code",
      "execution_count": null,
      "metadata": {
        "colab": {
          "base_uri": "https://localhost:8080/",
          "height": 638
        },
        "id": "ngFqu0BgPE_I",
        "outputId": "899f5283-82b1-4fe6-fcce-15e34ef37c0e"
      },
      "outputs": [
        {
          "data": {
            "image/png": "[encoded data removed]",
            "text/plain": [
              "<Figure size 1000x800 with 8 Axes>"
            ]
          },
          "metadata": {},
          "output_type": "display_data"
        }
      ],
      "source": [
        "data_dir = '/content/FER2013+/train'\n",
        "\n",
        "classes = sorted(os.listdir(data_dir))\n",
        "\n",
        "examples = {}\n",
        "\n",
        "for cls in classes:\n",
        "    cls_path = os.path.join(data_dir, cls)\n",
        "    if os.path.isdir(cls_path):\n",
        "        img_name = os.listdir(cls_path)[0]\n",
        "        img_path = os.path.join(cls_path, img_name)\n",
        "        examples[cls] = Image.open(img_path)\n",
        "\n",
        "plt.figure(figsize=(10, 8))\n",
        "for i, (cls, img) in enumerate(examples.items()):\n",
        "    plt.subplot(2, 4, i + 1)\n",
        "    plt.imshow(img)\n",
        "    plt.title(cls)\n",
        "    plt.axis('off')\n",
        "\n",
        "plt.tight_layout()\n",
        "plt.show()"
      ]
    },
    {
      "cell_type": "markdown",
      "metadata": {
        "id": "rZgBbzXuPVXL"
      },
      "source": [
        "## Обучение"
      ]
    },
    {
      "cell_type": "markdown",
      "metadata": {
        "id": "8LH_kuwBvFyv"
      },
      "source": [
        "Функция для обучения"
      ]
    },
    {
      "cell_type": "code",
      "execution_count": null,
      "metadata": {
        "id": "3cjqvxe_fsMz"
      },
      "outputs": [],
      "source": [
        "def train_model(model, train_loader, val_loader, criterion, optimizer, scheduler, device, num_epochs, patience=3):\n",
        "    best_val_loss = float('inf')\n",
        "    epochs_without_improvement = 0\n",
        "    for epoch in range(num_epochs):\n",
        "        model.train()\n",
        "        running_loss = 0.0\n",
        "\n",
        "        for inputs, labels in tqdm(train_loader, desc=f\"Epoch {epoch+1}/{num_epochs} - Training\", unit=\"batch\"):\n",
        "            inputs, labels = inputs.to(device), labels.to(device)\n",
        "            optimizer.zero_grad()\n",
        "            outputs = model(inputs)\n",
        "            loss = criterion(outputs, labels)\n",
        "            loss.backward()\n",
        "            optimizer.step()\n",
        "            running_loss += loss.item()\n",
        "\n",
        "        model.eval()\n",
        "        val_loss = 0.0\n",
        "        correct = 0\n",
        "        total = 0\n",
        "        with torch.no_grad():\n",
        "            for inputs, labels in tqdm(val_loader, desc=f\"Epoch {epoch+1}/{num_epochs} - Validation\", unit=\"batch\"):\n",
        "                inputs, labels = inputs.to(device), labels.to(device)\n",
        "                outputs = model(inputs)\n",
        "                loss = criterion(outputs, labels)\n",
        "                val_loss += loss.item()\n",
        "                _, predicted = torch.max(outputs, 1)\n",
        "                total += labels.size(0)\n",
        "                correct += (predicted == labels).sum().item()\n",
        "\n",
        "        val_loss /= len(val_loader)\n",
        "        val_accuracy = 100 * correct / total\n",
        "        print(f\"Epoch {epoch+1}/{num_epochs}, Validation Loss: {val_loss:.4f}, Accuracy: {val_accuracy:.2f}%\")\n",
        "\n",
        "        if val_loss < best_val_loss:\n",
        "            best_val_loss = val_loss\n",
        "            epochs_without_improvement = 0\n",
        "        else:\n",
        "            epochs_without_improvement += 1\n",
        "\n",
        "        if epochs_without_improvement >= patience:\n",
        "            print(f\"Early stopping triggered at epoch {epoch+1}!\")\n",
        "            break\n",
        "\n",
        "        scheduler.step(val_loss)\n",
        "\n",
        "        current_lr = optimizer.param_groups[0]['lr']\n",
        "        print(f\"Current Learning Rate: {current_lr}\")\n",
        "\n",
        "    model.eval()\n",
        "    test_loss = 0.0\n",
        "    correct = 0\n",
        "    total = 0\n",
        "    with torch.no_grad():\n",
        "        for inputs, labels in tqdm(test_loader, desc=\"Testing\", unit=\"batch\"):\n",
        "            inputs, labels = inputs.to(device), labels.to(device)\n",
        "            outputs = model(inputs)\n",
        "            loss = criterion(outputs, labels)\n",
        "            test_loss += loss.item()\n",
        "            _, predicted = torch.max(outputs, 1)\n",
        "            total += labels.size(0)\n",
        "            correct += (predicted == labels).sum().item()\n",
        "\n",
        "    test_loss /= len(test_loader)\n",
        "    test_accuracy = 100 * correct / total\n",
        "    print(f\"Test Loss: {test_loss:.4f}, Test Accuracy: {test_accuracy:.2f}%\")\n",
        "\n"
      ]
    },
    {
      "cell_type": "markdown",
      "metadata": {
        "id": "J_e6ffWdvMhu"
      },
      "source": [
        "Загрузка предобученной модели"
      ]
    },
    {
      "cell_type": "code",
      "execution_count": null,
      "metadata": {
        "colab": {
          "base_uri": "https://localhost:8080/"
        },
        "id": "XtSNCCxVn9Tt",
        "outputId": "5a9efe33-acef-4c68-8baa-b9dc03194bee"
      },
      "outputs": [
        {
          "data": {
            "text/plain": [
              "<All keys matched successfully>"
            ]
          },
          "execution_count": 12,
          "metadata": {},
          "output_type": "execute_result"
        }
      ],
      "source": [
        "model = models.resnet50(pretrained = False)\n",
        "model.fc = nn.Linear(model.fc.in_features, 8)\n",
        "model.load_state_dict(torch.load('resnet50-FER2013+', map_location=torch.device('cpu'), weights_only=True))"
      ]
    },
    {
      "cell_type": "code",
      "execution_count": null,
      "metadata": {
        "id": "9Y-DXd11tUM4"
      },
      "outputs": [],
      "source": [
        "model.fc = nn.Sequential(\n",
        "    nn.Dropout(p=0.5),\n",
        "    nn.Linear(model.fc.in_features, 8)\n",
        ")"
      ]
    },
    {
      "cell_type": "code",
      "execution_count": null,
      "metadata": {
        "id": "fGGWckPYth6z"
      },
      "outputs": [],
      "source": [
        "for param in model.parameters():\n",
        "  param.requires_grad = False\n",
        "\n",
        "for param in model.fc.parameters():\n",
        "  param.requires_grad = True"
      ]
    },
    {
      "cell_type": "code",
      "execution_count": null,
      "metadata": {
        "colab": {
          "base_uri": "https://localhost:8080/"
        },
        "id": "Nm9eetwTt1uT",
        "outputId": "d8be110d-fa0c-4944-9c0a-6b6909bffa9b"
      },
      "outputs": [
        {
          "name": "stdout",
          "output_type": "stream",
          "text": [
            "conv1.weight: requires_grad=False\n",
            "bn1.weight: requires_grad=False\n",
            "bn1.bias: requires_grad=False\n",
            "layer1.0.conv1.weight: requires_grad=False\n",
            "layer1.0.bn1.weight: requires_grad=False\n",
            "layer1.0.bn1.bias: requires_grad=False\n",
            "layer1.0.conv2.weight: requires_grad=False\n",
            "layer1.0.bn2.weight: requires_grad=False\n",
            "layer1.0.bn2.bias: requires_grad=False\n",
            "layer1.0.conv3.weight: requires_grad=False\n",
            "layer1.0.bn3.weight: requires_grad=False\n",
            "layer1.0.bn3.bias: requires_grad=False\n",
            "layer1.0.downsample.0.weight: requires_grad=False\n",
            "layer1.0.downsample.1.weight: requires_grad=False\n",
            "layer1.0.downsample.1.bias: requires_grad=False\n",
            "layer1.1.conv1.weight: requires_grad=False\n",
            "layer1.1.bn1.weight: requires_grad=False\n",
            "layer1.1.bn1.bias: requires_grad=False\n",
            "layer1.1.conv2.weight: requires_grad=False\n",
            "layer1.1.bn2.weight: requires_grad=False\n",
            "layer1.1.bn2.bias: requires_grad=False\n",
            "layer1.1.conv3.weight: requires_grad=False\n",
            "layer1.1.bn3.weight: requires_grad=False\n",
            "layer1.1.bn3.bias: requires_grad=False\n",
            "layer1.2.conv1.weight: requires_grad=False\n",
            "layer1.2.bn1.weight: requires_grad=False\n",
            "layer1.2.bn1.bias: requires_grad=False\n",
            "layer1.2.conv2.weight: requires_grad=False\n",
            "layer1.2.bn2.weight: requires_grad=False\n",
            "layer1.2.bn2.bias: requires_grad=False\n",
            "layer1.2.conv3.weight: requires_grad=False\n",
            "layer1.2.bn3.weight: requires_grad=False\n",
            "layer1.2.bn3.bias: requires_grad=False\n",
            "layer2.0.conv1.weight: requires_grad=False\n",
            "layer2.0.bn1.weight: requires_grad=False\n",
            "layer2.0.bn1.bias: requires_grad=False\n",
            "layer2.0.conv2.weight: requires_grad=False\n",
            "layer2.0.bn2.weight: requires_grad=False\n",
            "layer2.0.bn2.bias: requires_grad=False\n",
            "layer2.0.conv3.weight: requires_grad=False\n",
            "layer2.0.bn3.weight: requires_grad=False\n",
            "layer2.0.bn3.bias: requires_grad=False\n",
            "layer2.0.downsample.0.weight: requires_grad=False\n",
            "layer2.0.downsample.1.weight: requires_grad=False\n",
            "layer2.0.downsample.1.bias: requires_grad=False\n",
            "layer2.1.conv1.weight: requires_grad=False\n",
            "layer2.1.bn1.weight: requires_grad=False\n",
            "layer2.1.bn1.bias: requires_grad=False\n",
            "layer2.1.conv2.weight: requires_grad=False\n",
            "layer2.1.bn2.weight: requires_grad=False\n",
            "layer2.1.bn2.bias: requires_grad=False\n",
            "layer2.1.conv3.weight: requires_grad=False\n",
            "layer2.1.bn3.weight: requires_grad=False\n",
            "layer2.1.bn3.bias: requires_grad=False\n",
            "layer2.2.conv1.weight: requires_grad=False\n",
            "layer2.2.bn1.weight: requires_grad=False\n",
            "layer2.2.bn1.bias: requires_grad=False\n",
            "layer2.2.conv2.weight: requires_grad=False\n",
            "layer2.2.bn2.weight: requires_grad=False\n",
            "layer2.2.bn2.bias: requires_grad=False\n",
            "layer2.2.conv3.weight: requires_grad=False\n",
            "layer2.2.bn3.weight: requires_grad=False\n",
            "layer2.2.bn3.bias: requires_grad=False\n",
            "layer2.3.conv1.weight: requires_grad=False\n",
            "layer2.3.bn1.weight: requires_grad=False\n",
            "layer2.3.bn1.bias: requires_grad=False\n",
            "layer2.3.conv2.weight: requires_grad=False\n",
            "layer2.3.bn2.weight: requires_grad=False\n",
            "layer2.3.bn2.bias: requires_grad=False\n",
            "layer2.3.conv3.weight: requires_grad=False\n",
            "layer2.3.bn3.weight: requires_grad=False\n",
            "layer2.3.bn3.bias: requires_grad=False\n",
            "layer3.0.conv1.weight: requires_grad=False\n",
            "layer3.0.bn1.weight: requires_grad=False\n",
            "layer3.0.bn1.bias: requires_grad=False\n",
            "layer3.0.conv2.weight: requires_grad=False\n",
            "layer3.0.bn2.weight: requires_grad=False\n",
            "layer3.0.bn2.bias: requires_grad=False\n",
            "layer3.0.conv3.weight: requires_grad=False\n",
            "layer3.0.bn3.weight: requires_grad=False\n",
            "layer3.0.bn3.bias: requires_grad=False\n",
            "layer3.0.downsample.0.weight: requires_grad=False\n",
            "layer3.0.downsample.1.weight: requires_grad=False\n",
            "layer3.0.downsample.1.bias: requires_grad=False\n",
            "layer3.1.conv1.weight: requires_grad=False\n",
            "layer3.1.bn1.weight: requires_grad=False\n",
            "layer3.1.bn1.bias: requires_grad=False\n",
            "layer3.1.conv2.weight: requires_grad=False\n",
            "layer3.1.bn2.weight: requires_grad=False\n",
            "layer3.1.bn2.bias: requires_grad=False\n",
            "layer3.1.conv3.weight: requires_grad=False\n",
            "layer3.1.bn3.weight: requires_grad=False\n",
            "layer3.1.bn3.bias: requires_grad=False\n",
            "layer3.2.conv1.weight: requires_grad=False\n",
            "layer3.2.bn1.weight: requires_grad=False\n",
            "layer3.2.bn1.bias: requires_grad=False\n",
            "layer3.2.conv2.weight: requires_grad=False\n",
            "layer3.2.bn2.weight: requires_grad=False\n",
            "layer3.2.bn2.bias: requires_grad=False\n",
            "layer3.2.conv3.weight: requires_grad=False\n",
            "layer3.2.bn3.weight: requires_grad=False\n",
            "layer3.2.bn3.bias: requires_grad=False\n",
            "layer3.3.conv1.weight: requires_grad=False\n",
            "layer3.3.bn1.weight: requires_grad=False\n",
            "layer3.3.bn1.bias: requires_grad=False\n",
            "layer3.3.conv2.weight: requires_grad=False\n",
            "layer3.3.bn2.weight: requires_grad=False\n",
            "layer3.3.bn2.bias: requires_grad=False\n",
            "layer3.3.conv3.weight: requires_grad=False\n",
            "layer3.3.bn3.weight: requires_grad=False\n",
            "layer3.3.bn3.bias: requires_grad=False\n",
            "layer3.4.conv1.weight: requires_grad=False\n",
            "layer3.4.bn1.weight: requires_grad=False\n",
            "layer3.4.bn1.bias: requires_grad=False\n",
            "layer3.4.conv2.weight: requires_grad=False\n",
            "layer3.4.bn2.weight: requires_grad=False\n",
            "layer3.4.bn2.bias: requires_grad=False\n",
            "layer3.4.conv3.weight: requires_grad=False\n",
            "layer3.4.bn3.weight: requires_grad=False\n",
            "layer3.4.bn3.bias: requires_grad=False\n",
            "layer3.5.conv1.weight: requires_grad=False\n",
            "layer3.5.bn1.weight: requires_grad=False\n",
            "layer3.5.bn1.bias: requires_grad=False\n",
            "layer3.5.conv2.weight: requires_grad=False\n",
            "layer3.5.bn2.weight: requires_grad=False\n",
            "layer3.5.bn2.bias: requires_grad=False\n",
            "layer3.5.conv3.weight: requires_grad=False\n",
            "layer3.5.bn3.weight: requires_grad=False\n",
            "layer3.5.bn3.bias: requires_grad=False\n",
            "layer4.0.conv1.weight: requires_grad=False\n",
            "layer4.0.bn1.weight: requires_grad=False\n",
            "layer4.0.bn1.bias: requires_grad=False\n",
            "layer4.0.conv2.weight: requires_grad=False\n",
            "layer4.0.bn2.weight: requires_grad=False\n",
            "layer4.0.bn2.bias: requires_grad=False\n",
            "layer4.0.conv3.weight: requires_grad=False\n",
            "layer4.0.bn3.weight: requires_grad=False\n",
            "layer4.0.bn3.bias: requires_grad=False\n",
            "layer4.0.downsample.0.weight: requires_grad=False\n",
            "layer4.0.downsample.1.weight: requires_grad=False\n",
            "layer4.0.downsample.1.bias: requires_grad=False\n",
            "layer4.1.conv1.weight: requires_grad=False\n",
            "layer4.1.bn1.weight: requires_grad=False\n",
            "layer4.1.bn1.bias: requires_grad=False\n",
            "layer4.1.conv2.weight: requires_grad=False\n",
            "layer4.1.bn2.weight: requires_grad=False\n",
            "layer4.1.bn2.bias: requires_grad=False\n",
            "layer4.1.conv3.weight: requires_grad=False\n",
            "layer4.1.bn3.weight: requires_grad=False\n",
            "layer4.1.bn3.bias: requires_grad=False\n",
            "layer4.2.conv1.weight: requires_grad=False\n",
            "layer4.2.bn1.weight: requires_grad=False\n",
            "layer4.2.bn1.bias: requires_grad=False\n",
            "layer4.2.conv2.weight: requires_grad=False\n",
            "layer4.2.bn2.weight: requires_grad=False\n",
            "layer4.2.bn2.bias: requires_grad=False\n",
            "layer4.2.conv3.weight: requires_grad=False\n",
            "layer4.2.bn3.weight: requires_grad=False\n",
            "layer4.2.bn3.bias: requires_grad=False\n",
            "fc.1.weight: requires_grad=True\n",
            "fc.1.bias: requires_grad=True\n"
          ]
        }
      ],
      "source": [
        "for name, param in model.named_parameters():\n",
        "    print(f\"{name}: requires_grad={param.requires_grad}\")"
      ]
    },
    {
      "cell_type": "code",
      "execution_count": null,
      "metadata": {
        "colab": {
          "base_uri": "https://localhost:8080/"
        },
        "id": "-WP7X6AG8M1z",
        "outputId": "3b38a9a7-6cf6-4ccc-c5c8-164ef6a53230"
      },
      "outputs": [
        {
          "name": "stderr",
          "output_type": "stream",
          "text": [
            "/usr/local/lib/python3.10/dist-packages/torch/optim/lr_scheduler.py:62: UserWarning: The verbose parameter is deprecated. Please use get_last_lr() to access the learning rate.\n",
            "  warnings.warn(\n",
            "Epoch 1/10 - Training: 100%|██████████| 400/400 [02:37<00:00,  2.53batch/s]\n",
            "Epoch 1/10 - Validation: 100%|██████████| 45/45 [00:16<00:00,  2.70batch/s]\n"
          ]
        },
        {
          "name": "stdout",
          "output_type": "stream",
          "text": [
            "Epoch 1/10, Validation Loss: 0.2337, Accuracy: 91.86%\n",
            "Current Learning Rate: 0.0001\n"
          ]
        },
        {
          "name": "stderr",
          "output_type": "stream",
          "text": [
            "Epoch 2/10 - Training: 100%|██████████| 400/400 [02:30<00:00,  2.65batch/s]\n",
            "Epoch 2/10 - Validation: 100%|██████████| 45/45 [00:16<00:00,  2.81batch/s]\n"
          ]
        },
        {
          "name": "stdout",
          "output_type": "stream",
          "text": [
            "Epoch 2/10, Validation Loss: 0.2069, Accuracy: 92.92%\n",
            "Current Learning Rate: 0.0001\n"
          ]
        },
        {
          "name": "stderr",
          "output_type": "stream",
          "text": [
            "Epoch 3/10 - Training: 100%|██████████| 400/400 [02:26<00:00,  2.73batch/s]\n",
            "Epoch 3/10 - Validation: 100%|██████████| 45/45 [00:16<00:00,  2.74batch/s]\n"
          ]
        },
        {
          "name": "stdout",
          "output_type": "stream",
          "text": [
            "Epoch 3/10, Validation Loss: 0.1909, Accuracy: 93.52%\n",
            "Current Learning Rate: 0.0001\n"
          ]
        },
        {
          "name": "stderr",
          "output_type": "stream",
          "text": [
            "Epoch 4/10 - Training: 100%|██████████| 400/400 [02:32<00:00,  2.63batch/s]\n",
            "Epoch 4/10 - Validation: 100%|██████████| 45/45 [00:15<00:00,  2.89batch/s]\n"
          ]
        },
        {
          "name": "stdout",
          "output_type": "stream",
          "text": [
            "Epoch 4/10, Validation Loss: 0.2023, Accuracy: 92.78%\n",
            "Current Learning Rate: 0.0001\n"
          ]
        },
        {
          "name": "stderr",
          "output_type": "stream",
          "text": [
            "Epoch 5/10 - Training: 100%|██████████| 400/400 [02:26<00:00,  2.73batch/s]\n",
            "Epoch 5/10 - Validation: 100%|██████████| 45/45 [00:15<00:00,  2.86batch/s]\n"
          ]
        },
        {
          "name": "stdout",
          "output_type": "stream",
          "text": [
            "Epoch 5/10, Validation Loss: 0.1903, Accuracy: 92.92%\n",
            "Current Learning Rate: 0.0001\n"
          ]
        },
        {
          "name": "stderr",
          "output_type": "stream",
          "text": [
            "Epoch 6/10 - Training: 100%|██████████| 400/400 [02:25<00:00,  2.75batch/s]\n",
            "Epoch 6/10 - Validation: 100%|██████████| 45/45 [00:15<00:00,  2.89batch/s]\n"
          ]
        },
        {
          "name": "stdout",
          "output_type": "stream",
          "text": [
            "Epoch 6/10, Validation Loss: 0.1886, Accuracy: 93.06%\n",
            "Current Learning Rate: 0.0001\n"
          ]
        },
        {
          "name": "stderr",
          "output_type": "stream",
          "text": [
            "Epoch 7/10 - Training: 100%|██████████| 400/400 [02:26<00:00,  2.74batch/s]\n",
            "Epoch 7/10 - Validation: 100%|██████████| 45/45 [00:15<00:00,  2.91batch/s]\n"
          ]
        },
        {
          "name": "stdout",
          "output_type": "stream",
          "text": [
            "Epoch 7/10, Validation Loss: 0.1874, Accuracy: 93.38%\n",
            "Current Learning Rate: 0.0001\n"
          ]
        },
        {
          "name": "stderr",
          "output_type": "stream",
          "text": [
            "Epoch 8/10 - Training: 100%|██████████| 400/400 [02:26<00:00,  2.73batch/s]\n",
            "Epoch 8/10 - Validation: 100%|██████████| 45/45 [00:15<00:00,  2.92batch/s]\n"
          ]
        },
        {
          "name": "stdout",
          "output_type": "stream",
          "text": [
            "Epoch 8/10, Validation Loss: 0.1959, Accuracy: 93.13%\n",
            "Current Learning Rate: 0.0001\n"
          ]
        },
        {
          "name": "stderr",
          "output_type": "stream",
          "text": [
            "Epoch 9/10 - Training: 100%|██████████| 400/400 [02:26<00:00,  2.74batch/s]\n",
            "Epoch 9/10 - Validation: 100%|██████████| 45/45 [00:15<00:00,  2.87batch/s]\n"
          ]
        },
        {
          "name": "stdout",
          "output_type": "stream",
          "text": [
            "Epoch 9/10, Validation Loss: 0.1931, Accuracy: 93.38%\n",
            "Current Learning Rate: 0.0001\n"
          ]
        },
        {
          "name": "stderr",
          "output_type": "stream",
          "text": [
            "Epoch 10/10 - Training: 100%|██████████| 400/400 [02:25<00:00,  2.75batch/s]\n",
            "Epoch 10/10 - Validation: 100%|██████████| 45/45 [00:15<00:00,  2.90batch/s]\n"
          ]
        },
        {
          "name": "stdout",
          "output_type": "stream",
          "text": [
            "Epoch 10/10, Validation Loss: 0.1942, Accuracy: 93.13%\n",
            "Early stopping triggered at epoch 10!\n"
          ]
        },
        {
          "name": "stderr",
          "output_type": "stream",
          "text": [
            "Testing: 100%|██████████| 111/111 [00:34<00:00,  3.17batch/s]"
          ]
        },
        {
          "name": "stdout",
          "output_type": "stream",
          "text": [
            "Test Loss: 0.4881, Test Accuracy: 84.55%\n"
          ]
        },
        {
          "name": "stderr",
          "output_type": "stream",
          "text": [
            "\n"
          ]
        }
      ],
      "source": [
        "num_epochs = 10\n",
        "learning_rate = 1e-4\n",
        "criterion = nn.CrossEntropyLoss()\n",
        "optimizer = optim.Adam(model.parameters(), lr=learning_rate, weight_decay=1e-4)\n",
        "scheduler = ReduceLROnPlateau(optimizer, mode='min', factor=0.1, patience=3, verbose=True)\n",
        "device = torch.device(\"cuda\" if torch.cuda.is_available() else \"cpu\")\n",
        "model.to(device)\n",
        "\n",
        "train_model(model, train_loader, val_loader, criterion, optimizer, scheduler, device, num_epochs)"
      ]
    },
    {
      "cell_type": "code",
      "execution_count": null,
      "metadata": {
        "id": "K3PexThQUUjx"
      },
      "outputs": [],
      "source": [
        "torch.save(model, 'resnet50_FER2013+_full_model')"
      ]
    },
    {
      "cell_type": "markdown",
      "metadata": {
        "id": "lNKM8qkHPRjN"
      },
      "source": [
        "## Тест"
      ]
    },
    {
      "cell_type": "code",
      "execution_count": null,
      "metadata": {
        "colab": {
          "base_uri": "https://localhost:8080/"
        },
        "id": "K22fdndGPP2P",
        "outputId": "4b413cf4-f4e3-4a5c-8440-10c5e58a0a72"
      },
      "outputs": [
        {
          "name": "stderr",
          "output_type": "stream",
          "text": [
            "<ipython-input-13-ec0d9db54907>:1: FutureWarning: You are using `torch.load` with `weights_only=False` (the current default value), which uses the default pickle module implicitly. It is possible to construct malicious pickle data which will execute arbitrary code during unpickling (See https://github.com/pytorch/pytorch/blob/main/SECURITY.md#untrusted-models for more details). In a future release, the default value for `weights_only` will be flipped to `True`. This limits the functions that could be executed during unpickling. Arbitrary objects will no longer be allowed to be loaded via this mode unless they are explicitly allowlisted by the user via `torch.serialization.add_safe_globals`. We recommend you start setting `weights_only=True` for any use case where you don't have full control of the loaded file. Please open an issue on GitHub for any issues related to this experimental feature.\n",
            "  model = torch.load('resnet50_FER2013+_full_model')\n"
          ]
        },
        {
          "data": {
            "text/plain": [
              "ResNet(\n",
              "  (conv1): Conv2d(3, 64, kernel_size=(7, 7), stride=(2, 2), padding=(3, 3), bias=False)\n",
              "  (bn1): BatchNorm2d(64, eps=1e-05, momentum=0.1, affine=True, track_running_stats=True)\n",
              "  (relu): ReLU(inplace=True)\n",
              "  (maxpool): MaxPool2d(kernel_size=3, stride=2, padding=1, dilation=1, ceil_mode=False)\n",
              "  (layer1): Sequential(\n",
              "    (0): Bottleneck(\n",
              "      (conv1): Conv2d(64, 64, kernel_size=(1, 1), stride=(1, 1), bias=False)\n",
              "      (bn1): BatchNorm2d(64, eps=1e-05, momentum=0.1, affine=True, track_running_stats=True)\n",
              "      (conv2): Conv2d(64, 64, kernel_size=(3, 3), stride=(1, 1), padding=(1, 1), bias=False)\n",
              "      (bn2): BatchNorm2d(64, eps=1e-05, momentum=0.1, affine=True, track_running_stats=True)\n",
              "      (conv3): Conv2d(64, 256, kernel_size=(1, 1), stride=(1, 1), bias=False)\n",
              "      (bn3): BatchNorm2d(256, eps=1e-05, momentum=0.1, affine=True, track_running_stats=True)\n",
              "      (relu): ReLU(inplace=True)\n",
              "      (downsample): Sequential(\n",
              "        (0): Conv2d(64, 256, kernel_size=(1, 1), stride=(1, 1), bias=False)\n",
              "        (1): BatchNorm2d(256, eps=1e-05, momentum=0.1, affine=True, track_running_stats=True)\n",
              "      )\n",
              "    )\n",
              "    (1): Bottleneck(\n",
              "      (conv1): Conv2d(256, 64, kernel_size=(1, 1), stride=(1, 1), bias=False)\n",
              "      (bn1): BatchNorm2d(64, eps=1e-05, momentum=0.1, affine=True, track_running_stats=True)\n",
              "      (conv2): Conv2d(64, 64, kernel_size=(3, 3), stride=(1, 1), padding=(1, 1), bias=False)\n",
              "      (bn2): BatchNorm2d(64, eps=1e-05, momentum=0.1, affine=True, track_running_stats=True)\n",
              "      (conv3): Conv2d(64, 256, kernel_size=(1, 1), stride=(1, 1), bias=False)\n",
              "      (bn3): BatchNorm2d(256, eps=1e-05, momentum=0.1, affine=True, track_running_stats=True)\n",
              "      (relu): ReLU(inplace=True)\n",
              "    )\n",
              "    (2): Bottleneck(\n",
              "      (conv1): Conv2d(256, 64, kernel_size=(1, 1), stride=(1, 1), bias=False)\n",
              "      (bn1): BatchNorm2d(64, eps=1e-05, momentum=0.1, affine=True, track_running_stats=True)\n",
              "      (conv2): Conv2d(64, 64, kernel_size=(3, 3), stride=(1, 1), padding=(1, 1), bias=False)\n",
              "      (bn2): BatchNorm2d(64, eps=1e-05, momentum=0.1, affine=True, track_running_stats=True)\n",
              "      (conv3): Conv2d(64, 256, kernel_size=(1, 1), stride=(1, 1), bias=False)\n",
              "      (bn3): BatchNorm2d(256, eps=1e-05, momentum=0.1, affine=True, track_running_stats=True)\n",
              "      (relu): ReLU(inplace=True)\n",
              "    )\n",
              "  )\n",
              "  (layer2): Sequential(\n",
              "    (0): Bottleneck(\n",
              "      (conv1): Conv2d(256, 128, kernel_size=(1, 1), stride=(1, 1), bias=False)\n",
              "      (bn1): BatchNorm2d(128, eps=1e-05, momentum=0.1, affine=True, track_running_stats=True)\n",
              "      (conv2): Conv2d(128, 128, kernel_size=(3, 3), stride=(2, 2), padding=(1, 1), bias=False)\n",
              "      (bn2): BatchNorm2d(128, eps=1e-05, momentum=0.1, affine=True, track_running_stats=True)\n",
              "      (conv3): Conv2d(128, 512, kernel_size=(1, 1), stride=(1, 1), bias=False)\n",
              "      (bn3): BatchNorm2d(512, eps=1e-05, momentum=0.1, affine=True, track_running_stats=True)\n",
              "      (relu): ReLU(inplace=True)\n",
              "      (downsample): Sequential(\n",
              "        (0): Conv2d(256, 512, kernel_size=(1, 1), stride=(2, 2), bias=False)\n",
              "        (1): BatchNorm2d(512, eps=1e-05, momentum=0.1, affine=True, track_running_stats=True)\n",
              "      )\n",
              "    )\n",
              "    (1): Bottleneck(\n",
              "      (conv1): Conv2d(512, 128, kernel_size=(1, 1), stride=(1, 1), bias=False)\n",
              "      (bn1): BatchNorm2d(128, eps=1e-05, momentum=0.1, affine=True, track_running_stats=True)\n",
              "      (conv2): Conv2d(128, 128, kernel_size=(3, 3), stride=(1, 1), padding=(1, 1), bias=False)\n",
              "      (bn2): BatchNorm2d(128, eps=1e-05, momentum=0.1, affine=True, track_running_stats=True)\n",
              "      (conv3): Conv2d(128, 512, kernel_size=(1, 1), stride=(1, 1), bias=False)\n",
              "      (bn3): BatchNorm2d(512, eps=1e-05, momentum=0.1, affine=True, track_running_stats=True)\n",
              "      (relu): ReLU(inplace=True)\n",
              "    )\n",
              "    (2): Bottleneck(\n",
              "      (conv1): Conv2d(512, 128, kernel_size=(1, 1), stride=(1, 1), bias=False)\n",
              "      (bn1): BatchNorm2d(128, eps=1e-05, momentum=0.1, affine=True, track_running_stats=True)\n",
              "      (conv2): Conv2d(128, 128, kernel_size=(3, 3), stride=(1, 1), padding=(1, 1), bias=False)\n",
              "      (bn2): BatchNorm2d(128, eps=1e-05, momentum=0.1, affine=True, track_running_stats=True)\n",
              "      (conv3): Conv2d(128, 512, kernel_size=(1, 1), stride=(1, 1), bias=False)\n",
              "      (bn3): BatchNorm2d(512, eps=1e-05, momentum=0.1, affine=True, track_running_stats=True)\n",
              "      (relu): ReLU(inplace=True)\n",
              "    )\n",
              "    (3): Bottleneck(\n",
              "      (conv1): Conv2d(512, 128, kernel_size=(1, 1), stride=(1, 1), bias=False)\n",
              "      (bn1): BatchNorm2d(128, eps=1e-05, momentum=0.1, affine=True, track_running_stats=True)\n",
              "      (conv2): Conv2d(128, 128, kernel_size=(3, 3), stride=(1, 1), padding=(1, 1), bias=False)\n",
              "      (bn2): BatchNorm2d(128, eps=1e-05, momentum=0.1, affine=True, track_running_stats=True)\n",
              "      (conv3): Conv2d(128, 512, kernel_size=(1, 1), stride=(1, 1), bias=False)\n",
              "      (bn3): BatchNorm2d(512, eps=1e-05, momentum=0.1, affine=True, track_running_stats=True)\n",
              "      (relu): ReLU(inplace=True)\n",
              "    )\n",
              "  )\n",
              "  (layer3): Sequential(\n",
              "    (0): Bottleneck(\n",
              "      (conv1): Conv2d(512, 256, kernel_size=(1, 1), stride=(1, 1), bias=False)\n",
              "      (bn1): BatchNorm2d(256, eps=1e-05, momentum=0.1, affine=True, track_running_stats=True)\n",
              "      (conv2): Conv2d(256, 256, kernel_size=(3, 3), stride=(2, 2), padding=(1, 1), bias=False)\n",
              "      (bn2): BatchNorm2d(256, eps=1e-05, momentum=0.1, affine=True, track_running_stats=True)\n",
              "      (conv3): Conv2d(256, 1024, kernel_size=(1, 1), stride=(1, 1), bias=False)\n",
              "      (bn3): BatchNorm2d(1024, eps=1e-05, momentum=0.1, affine=True, track_running_stats=True)\n",
              "      (relu): ReLU(inplace=True)\n",
              "      (downsample): Sequential(\n",
              "        (0): Conv2d(512, 1024, kernel_size=(1, 1), stride=(2, 2), bias=False)\n",
              "        (1): BatchNorm2d(1024, eps=1e-05, momentum=0.1, affine=True, track_running_stats=True)\n",
              "      )\n",
              "    )\n",
              "    (1): Bottleneck(\n",
              "      (conv1): Conv2d(1024, 256, kernel_size=(1, 1), stride=(1, 1), bias=False)\n",
              "      (bn1): BatchNorm2d(256, eps=1e-05, momentum=0.1, affine=True, track_running_stats=True)\n",
              "      (conv2): Conv2d(256, 256, kernel_size=(3, 3), stride=(1, 1), padding=(1, 1), bias=False)\n",
              "      (bn2): BatchNorm2d(256, eps=1e-05, momentum=0.1, affine=True, track_running_stats=True)\n",
              "      (conv3): Conv2d(256, 1024, kernel_size=(1, 1), stride=(1, 1), bias=False)\n",
              "      (bn3): BatchNorm2d(1024, eps=1e-05, momentum=0.1, affine=True, track_running_stats=True)\n",
              "      (relu): ReLU(inplace=True)\n",
              "    )\n",
              "    (2): Bottleneck(\n",
              "      (conv1): Conv2d(1024, 256, kernel_size=(1, 1), stride=(1, 1), bias=False)\n",
              "      (bn1): BatchNorm2d(256, eps=1e-05, momentum=0.1, affine=True, track_running_stats=True)\n",
              "      (conv2): Conv2d(256, 256, kernel_size=(3, 3), stride=(1, 1), padding=(1, 1), bias=False)\n",
              "      (bn2): BatchNorm2d(256, eps=1e-05, momentum=0.1, affine=True, track_running_stats=True)\n",
              "      (conv3): Conv2d(256, 1024, kernel_size=(1, 1), stride=(1, 1), bias=False)\n",
              "      (bn3): BatchNorm2d(1024, eps=1e-05, momentum=0.1, affine=True, track_running_stats=True)\n",
              "      (relu): ReLU(inplace=True)\n",
              "    )\n",
              "    (3): Bottleneck(\n",
              "      (conv1): Conv2d(1024, 256, kernel_size=(1, 1), stride=(1, 1), bias=False)\n",
              "      (bn1): BatchNorm2d(256, eps=1e-05, momentum=0.1, affine=True, track_running_stats=True)\n",
              "      (conv2): Conv2d(256, 256, kernel_size=(3, 3), stride=(1, 1), padding=(1, 1), bias=False)\n",
              "      (bn2): BatchNorm2d(256, eps=1e-05, momentum=0.1, affine=True, track_running_stats=True)\n",
              "      (conv3): Conv2d(256, 1024, kernel_size=(1, 1), stride=(1, 1), bias=False)\n",
              "      (bn3): BatchNorm2d(1024, eps=1e-05, momentum=0.1, affine=True, track_running_stats=True)\n",
              "      (relu): ReLU(inplace=True)\n",
              "    )\n",
              "    (4): Bottleneck(\n",
              "      (conv1): Conv2d(1024, 256, kernel_size=(1, 1), stride=(1, 1), bias=False)\n",
              "      (bn1): BatchNorm2d(256, eps=1e-05, momentum=0.1, affine=True, track_running_stats=True)\n",
              "      (conv2): Conv2d(256, 256, kernel_size=(3, 3), stride=(1, 1), padding=(1, 1), bias=False)\n",
              "      (bn2): BatchNorm2d(256, eps=1e-05, momentum=0.1, affine=True, track_running_stats=True)\n",
              "      (conv3): Conv2d(256, 1024, kernel_size=(1, 1), stride=(1, 1), bias=False)\n",
              "      (bn3): BatchNorm2d(1024, eps=1e-05, momentum=0.1, affine=True, track_running_stats=True)\n",
              "      (relu): ReLU(inplace=True)\n",
              "    )\n",
              "    (5): Bottleneck(\n",
              "      (conv1): Conv2d(1024, 256, kernel_size=(1, 1), stride=(1, 1), bias=False)\n",
              "      (bn1): BatchNorm2d(256, eps=1e-05, momentum=0.1, affine=True, track_running_stats=True)\n",
              "      (conv2): Conv2d(256, 256, kernel_size=(3, 3), stride=(1, 1), padding=(1, 1), bias=False)\n",
              "      (bn2): BatchNorm2d(256, eps=1e-05, momentum=0.1, affine=True, track_running_stats=True)\n",
              "      (conv3): Conv2d(256, 1024, kernel_size=(1, 1), stride=(1, 1), bias=False)\n",
              "      (bn3): BatchNorm2d(1024, eps=1e-05, momentum=0.1, affine=True, track_running_stats=True)\n",
              "      (relu): ReLU(inplace=True)\n",
              "    )\n",
              "  )\n",
              "  (layer4): Sequential(\n",
              "    (0): Bottleneck(\n",
              "      (conv1): Conv2d(1024, 512, kernel_size=(1, 1), stride=(1, 1), bias=False)\n",
              "      (bn1): BatchNorm2d(512, eps=1e-05, momentum=0.1, affine=True, track_running_stats=True)\n",
              "      (conv2): Conv2d(512, 512, kernel_size=(3, 3), stride=(2, 2), padding=(1, 1), bias=False)\n",
              "      (bn2): BatchNorm2d(512, eps=1e-05, momentum=0.1, affine=True, track_running_stats=True)\n",
              "      (conv3): Conv2d(512, 2048, kernel_size=(1, 1), stride=(1, 1), bias=False)\n",
              "      (bn3): BatchNorm2d(2048, eps=1e-05, momentum=0.1, affine=True, track_running_stats=True)\n",
              "      (relu): ReLU(inplace=True)\n",
              "      (downsample): Sequential(\n",
              "        (0): Conv2d(1024, 2048, kernel_size=(1, 1), stride=(2, 2), bias=False)\n",
              "        (1): BatchNorm2d(2048, eps=1e-05, momentum=0.1, affine=True, track_running_stats=True)\n",
              "      )\n",
              "    )\n",
              "    (1): Bottleneck(\n",
              "      (conv1): Conv2d(2048, 512, kernel_size=(1, 1), stride=(1, 1), bias=False)\n",
              "      (bn1): BatchNorm2d(512, eps=1e-05, momentum=0.1, affine=True, track_running_stats=True)\n",
              "      (conv2): Conv2d(512, 512, kernel_size=(3, 3), stride=(1, 1), padding=(1, 1), bias=False)\n",
              "      (bn2): BatchNorm2d(512, eps=1e-05, momentum=0.1, affine=True, track_running_stats=True)\n",
              "      (conv3): Conv2d(512, 2048, kernel_size=(1, 1), stride=(1, 1), bias=False)\n",
              "      (bn3): BatchNorm2d(2048, eps=1e-05, momentum=0.1, affine=True, track_running_stats=True)\n",
              "      (relu): ReLU(inplace=True)\n",
              "    )\n",
              "    (2): Bottleneck(\n",
              "      (conv1): Conv2d(2048, 512, kernel_size=(1, 1), stride=(1, 1), bias=False)\n",
              "      (bn1): BatchNorm2d(512, eps=1e-05, momentum=0.1, affine=True, track_running_stats=True)\n",
              "      (conv2): Conv2d(512, 512, kernel_size=(3, 3), stride=(1, 1), padding=(1, 1), bias=False)\n",
              "      (bn2): BatchNorm2d(512, eps=1e-05, momentum=0.1, affine=True, track_running_stats=True)\n",
              "      (conv3): Conv2d(512, 2048, kernel_size=(1, 1), stride=(1, 1), bias=False)\n",
              "      (bn3): BatchNorm2d(2048, eps=1e-05, momentum=0.1, affine=True, track_running_stats=True)\n",
              "      (relu): ReLU(inplace=True)\n",
              "    )\n",
              "  )\n",
              "  (avgpool): AdaptiveAvgPool2d(output_size=(1, 1))\n",
              "  (fc): Linear(in_features=2048, out_features=8, bias=True)\n",
              ")"
            ]
          },
          "execution_count": 13,
          "metadata": {},
          "output_type": "execute_result"
        }
      ],
      "source": [
        "model = torch.load('resnet50_FER2013+_full_model')\n",
        "model.eval()"
      ]
    },
    {
      "cell_type": "code",
      "execution_count": null,
      "metadata": {
        "id": "zpVTcs9IQURr"
      },
      "outputs": [],
      "source": [
        "device = torch.device('cuda' if torch.cuda.is_available() else 'cpu')\n",
        "model = model.to(device)"
      ]
    },
    {
      "cell_type": "code",
      "execution_count": null,
      "metadata": {
        "colab": {
          "base_uri": "https://localhost:8080/"
        },
        "id": "lwWBre8xPkZd",
        "outputId": "406b1529-c534-4c53-d612-9d6a071fdf17"
      },
      "outputs": [
        {
          "name": "stderr",
          "output_type": "stream",
          "text": [
            "100%|██████████| 111/111 [00:36<00:00,  3.01it/s]\n"
          ]
        }
      ],
      "source": [
        "true_labels = []\n",
        "predicted_labels = []\n",
        "\n",
        "with torch.no_grad():\n",
        "    for inputs, labels in tqdm(test_loader):\n",
        "        inputs, labels = inputs.to(device), labels.to(device)\n",
        "        outputs = model(inputs)\n",
        "        _, preds = torch.max(outputs, 1)\n",
        "        true_labels.extend(labels.cpu().numpy())\n",
        "        predicted_labels.extend(preds.cpu().numpy())"
      ]
    },
    {
      "cell_type": "code",
      "execution_count": null,
      "metadata": {
        "colab": {
          "base_uri": "https://localhost:8080/",
          "height": 564
        },
        "id": "AvLDsW4JPlvv",
        "outputId": "8b5004d1-f8e8-4d98-8238-f9af61cdaa2d"
      },
      "outputs": [
        {
          "data": {
            "image/png": "[encoded data removed]",
            "text/plain": [
              "<Figure size 800x600 with 2 Axes>"
            ]
          },
          "metadata": {},
          "output_type": "display_data"
        }
      ],
      "source": [
        "cm = confusion_matrix(true_labels, predicted_labels)\n",
        "\n",
        "plt.figure(figsize=(8, 6))\n",
        "sns.heatmap(cm, annot=True, fmt='d', cmap='Blues', xticklabels=test_dataset.classes, yticklabels=test_dataset.classes)\n",
        "plt.xlabel('Predicted')\n",
        "plt.ylabel('True')\n",
        "plt.title('Confusion Matrix')\n",
        "plt.show()"
      ]
    },
    {
      "cell_type": "code",
      "execution_count": null,
      "metadata": {
        "id": "QURcMr8cN7J2"
      },
      "outputs": [],
      "source": [
        "emotions = ['Neutral', 'Happy', 'Sad', 'Surprise', 'Fear', 'Disgust', 'Angry','Contempt']"
      ]
    },
    {
      "cell_type": "code",
      "execution_count": null,
      "metadata": {
        "id": "WzjZgwuQOKEj"
      },
      "outputs": [],
      "source": [
        "def preprocess_image(face):\n",
        "    transform = transforms.Compose([\n",
        "        transforms.ToPILImage(),\n",
        "        transforms.Resize((112, 112)),\n",
        "        transforms.ToTensor(),\n",
        "        transforms.Normalize(mean=[0.485, 0.456, 0.406], std=[0.229, 0.224, 0.225])\n",
        "    ])\n",
        "    return transform(face).unsqueeze(0)"
      ]
    },
    {
      "cell_type": "code",
      "execution_count": null,
      "metadata": {
        "id": "2Nhr_yUxs66E"
      },
      "outputs": [],
      "source": [
        "def predict_emotion(image_path, model):\n",
        "    image = cv2.imread(image_path)\n",
        "    image_rgb = cv2.cvtColor(image, cv2.COLOR_BGR2RGB)\n",
        "\n",
        "    detector = MTCNN()\n",
        "    faces = detector.detect_faces(image_rgb)\n",
        "\n",
        "    if not faces:\n",
        "        return \"Лицо не обнаружено!\"\n",
        "\n",
        "    x, y, w, h = faces[0]['box']\n",
        "    face = image_rgb[y:y + h, x:x + w]\n",
        "\n",
        "    face_tensor = preprocess_image(face)\n",
        "\n",
        "    device = torch.device(\"cuda\" if torch.cuda.is_available() else \"cpu\")\n",
        "    model = model.to(device)\n",
        "    face_tensor = face_tensor.to(device)\n",
        "\n",
        "    model.eval()\n",
        "    with torch.no_grad():\n",
        "        outputs, _, _ = model(face_tensor)\n",
        "        _, predicted_index = torch.max(outputs, 1)\n",
        "\n",
        "    emotion = emotions[predicted_index.item()]\n",
        "\n",
        "    fig, ax = plt.subplots()\n",
        "    ax.imshow(image_rgb)\n",
        "    rect = plt.Rectangle((x, y), w, h, edgecolor='red', linewidth=2, facecolor='none')\n",
        "    ax.add_patch(rect)\n",
        "    plt.text(x, y - 10, emotion, fontsize=14, color='red', bbox=dict(facecolor='white', alpha=0.8))\n",
        "    plt.axis('off')\n",
        "    plt.show()\n",
        "\n",
        "    return emotion"
      ]
    }
  ],
  "metadata": {
    "colab": {
      "collapsed_sections": [
        "fyz4FkT2nV7v"
      ],
      "provenance": [],
      "gpuType": "T4"
    },
    "kernelspec": {
      "display_name": "Python 3",
      "name": "python3"
    },
    "language_info": {
      "name": "python"
    },
    "accelerator": "GPU"
  },
  "nbformat": 4,
  "nbformat_minor": 0
}